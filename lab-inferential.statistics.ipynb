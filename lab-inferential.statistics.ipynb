{
 "cells": [
  {
   "cell_type": "markdown",
   "metadata": {},
   "source": [
    "### Instructions\n",
    "\n",
    "1. It is assumed that the mean systolic blood pressure is `μ = 120 mm Hg`. In the Honolulu Heart Study, a sample of `n = 100` people had an average systolic blood pressure of 130.1 mm Hg with a standard deviation of 21.21 mm Hg. Is the group significantly different (with respect to systolic blood pressure!) from the regular population?\n",
    "\n",
    "   - Set up the hypothesis test.\n",
    "   - Write down all the steps followed for setting up the test.\n",
    "   - Calculate the test statistic by hand and also code it in Python. It should be 4.76190. We will take a look at how to make decisions based on this calculated value."
   ]
  },
  {
   "cell_type": "code",
   "execution_count": 1,
   "metadata": {},
   "outputs": [],
   "source": [
    "# Libraries\n",
    "import math\n",
    "import pandas as pd\n",
    "import numpy as np\n",
    "import matplotlib.pyplot as plt\n",
    "import scipy.stats as st\n",
    "import statsmodels.api as sm\n",
    "import statsmodels.formula.api as smf"
   ]
  },
  {
   "cell_type": "code",
   "execution_count": 10,
   "metadata": {},
   "outputs": [
    {
     "name": "stdout",
     "output_type": "stream",
     "text": [
      "Test Statistic (t): 4.7619\n",
      "P-Value: 0.0000033\n",
      "Reject the Null Hypothesis: There is evidence to say the mean systolic blood pressure is different from 120 mm Hg.\n"
     ]
    }
   ],
   "source": [
    "pop_mean = 120 #Assumed mean systolic blood pressure\n",
    "n = 100 #Sample\n",
    "sample_mean = 130.1\n",
    "sample_std = 21.21\n",
    "alpha = 0.05\n",
    "\n",
    "null_hypothesis = \"The mean systolic blood pressure is 120 mm Hg\"  # H₀\n",
    "alt_hypothesis = \"The mean systolic blood pressure is not 120 mm Hg\"  # H₁\n",
    "\n",
    "# Calculate the t-statistic\n",
    "t_stat = (sample_mean - pop_mean) / (sample_std / np.sqrt(n))\n",
    "print(f\"Test Statistic (t): {t_stat:.4f}\")\n",
    "\n",
    "# p-value using Survival Function (sf)\n",
    "p_value = st.t.sf(np.abs(t_stat), df=n-1)\n",
    "print(f\"P-Value: {p_value:.7f}\")\n",
    "\n",
    "if p_value > alpha:\n",
    "    print(\"Fail to Reject the Null Hypothesis: Not enough evidence to say the mean systolic blood pressure is different from 120 mm Hg.\")\n",
    "else:\n",
    "    print(\"Reject the Null Hypothesis: There is evidence to say the mean systolic blood pressure is different from 120 mm Hg.\")"
   ]
  }
 ],
 "metadata": {
  "kernelspec": {
   "display_name": "base",
   "language": "python",
   "name": "python3"
  },
  "language_info": {
   "codemirror_mode": {
    "name": "ipython",
    "version": 3
   },
   "file_extension": ".py",
   "mimetype": "text/x-python",
   "name": "python",
   "nbconvert_exporter": "python",
   "pygments_lexer": "ipython3",
   "version": "3.12.4"
  }
 },
 "nbformat": 4,
 "nbformat_minor": 2
}
